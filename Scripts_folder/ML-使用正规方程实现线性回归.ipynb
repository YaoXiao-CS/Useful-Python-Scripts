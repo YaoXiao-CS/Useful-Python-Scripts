{
 "cells": [
  {
   "cell_type": "markdown",
   "metadata": {},
   "source": [
    "#### Linear Regression Using Normal Equation"
   ]
  },
  {
   "cell_type": "markdown",
   "metadata": {},
   "source": [
    "Write a Python function that performs linear regression using the normal equation. The function should take a matrix X (features) and a vector y (target) as input, and return the coefficients of the linear regression model. Round your answer to four decimal places, -0.0 is a valid result for rounding a very small number.\n",
    "\n",
    "##### Example\n",
    "```python\n",
    "    input: X = [[1, 1], [1, 2], [1, 3]], y = [1, 2, 3]\n",
    "    output: [0.0, 1.0]\n",
    "    reasoning: The linear model is y = 0.0 + 1.0*x, perfectly fitting the input data.\n",
    "```"
   ]
  },
  {
   "cell_type": "code",
   "execution_count": null,
   "metadata": {},
   "outputs": [],
   "source": [
    "import numpy as np\n",
    "def linear_regression_normal_equation(X: list[list[float]], y: list[float]) -> list[float]:\n",
    "\t# Your code here, make sure to round\n",
    "\treturn theta"
   ]
  },
  {
   "cell_type": "markdown",
   "metadata": {},
   "source": [
    "#### Solution"
   ]
  },
  {
   "cell_type": "code",
   "execution_count": null,
   "metadata": {},
   "outputs": [],
   "source": [
    "import numpy as np\n",
    "def linear_regression_normal_equation(X: list[list[float]], y: list[float]) -> list[float]:\n",
    "\tX = np.array(X)\n",
    "\ty = np.array(y).reshape(-1, 1)\n",
    "\tX_transpose = X.T\n",
    "\ttheta = np.linalg.inv(X_transpose.dot(X)).dot(X_transpose).dot(y)\n",
    "\treturn theta"
   ]
  },
  {
   "cell_type": "code",
   "execution_count": null,
   "metadata": {},
   "outputs": [],
   "source": []
  },
  {
   "cell_type": "markdown",
   "metadata": {},
   "source": [
    "####  Comments"
   ]
  },
  {
   "cell_type": "markdown",
   "metadata": {},
   "source": [
    "记损失函数为$\\mathrm{MSE}_{\\mathrm{train}}=\\frac1m\\left\\|\\hat{y}^{\\mathrm{(train)}}-y^{\\mathrm{(train)}}\\right\\|_2^2$ ，则上述计算过程的推导如下：\n",
    "\n",
    "\n",
    "$$\\begin{gathered}\n",
    "\\nabla_{w}\\mathrm{MSE}_{\\mathrm{train}}=0 \\\\\n",
    "\\Rightarrow\\nabla_w\\frac1m\\left\\|\\hat{y}^{(\\mathrm{train})}-y^{(\\mathrm{train})}\\right\\|_2^2=0 \\\\\n",
    "\\Rightarrow\\frac1m\\nabla_w\\left\\|\\boldsymbol{X}^{(\\mathrm{train})}\\boldsymbol{w}-\\boldsymbol{y}^{(\\mathrm{train})}\\right\\|_2^2=0 \\\\\n",
    "\\Rightarrow\\nabla_{w}\\left(\\boldsymbol{X}^{{(\\mathrm{train})}}w-y^{{(\\mathrm{train})}}\\right)^{\\top}\\left(\\boldsymbol{X}^{{(\\mathrm{train})}}w-y^{{(\\mathrm{train})}}\\right)=0 \\\\\n",
    "\\Rightarrow\\nabla_w\\left(w^\\top X^{(\\text{train})\\top}X^{(\\text{train})}w-2w^\\top X^{(\\text{train})\\top}y^{(\\text{train})}+y^{(\\text{train})\\top}y^{(\\text{train})}\\right)=0 \\\\\n",
    "\\Rightarrow2X^{(\\mathrm{train})\\top}X^{(\\mathrm{train})}w-2X^{(\\mathrm{train})\\top}y^{(\\mathrm{train})}=0 \n",
    "\\end{gathered}$$"
   ]
  }
 ],
 "metadata": {
  "kernelspec": {
   "display_name": "xy_ultra",
   "language": "python",
   "name": "python3"
  },
  "language_info": {
   "name": "python",
   "version": "3.8.17"
  }
 },
 "nbformat": 4,
 "nbformat_minor": 2
}

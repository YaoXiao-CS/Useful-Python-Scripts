{
 "cells": [
  {
   "cell_type": "code",
   "execution_count": null,
   "metadata": {},
   "outputs": [],
   "source": [
    "import cv2\n",
    "import numpy as np\n",
    "import os\n",
    "\n",
    "# 设置原始视频文件夹路径.\n",
    "input_folder = \"C:/Users/Administrator/Desktop/output\"  # 替换为你的输入文件夹路径.\n",
    "output_file = 'C:/Users/Administrator/Desktop/combined_video.mp4'   # 输出文件名.\n",
    "\n",
    "# 指定视频的顺序.\n",
    "video_indices = [1, 2, 3]  # 假设你的视频编号从1到3.\n",
    "\n",
    "# 收集视频文件名.\n",
    "original_videos = []\n",
    "segmentation_videos = []\n",
    "\n",
    "for index in video_indices:\n",
    "    original_videos.append(os.path.join(input_folder, f'resized_test_video{index}.mp4'))\n",
    "    segmentation_videos.append(os.path.join(input_folder, f'resized_output_video{index}.mp4'))\n",
    "\n",
    "# 确保视频数量匹配.\n",
    "if len(original_videos) != len(segmentation_videos):\n",
    "    print(\"原始视频和分割视频数量不匹配！\")\n",
    "    exit()\n",
    "\n",
    "# 初始化VideoCapture对象.\n",
    "caps = [cv2.VideoCapture(v) for v in original_videos + segmentation_videos]\n",
    "\n",
    "# 获取视频帧的宽高（确保所有视频具有相同分辨率）.\n",
    "frame_width = int(caps[0].get(cv2.CAP_PROP_FRAME_WIDTH))\n",
    "frame_height = int(caps[0].get(cv2.CAP_PROP_FRAME_HEIGHT))\n",
    "\n",
    "# 设置输出视频的参数.\n",
    "output_width = frame_width * 3\n",
    "output_height = frame_height * 2\n",
    "fps = caps[0].get(cv2.CAP_PROP_FPS)\n",
    "fourcc = cv2.VideoWriter_fourcc(*'mp4v')\n",
    "\n",
    "# 创建 VideoWriter 对象.\n",
    "out = cv2.VideoWriter(output_file, fourcc, fps, (output_width, output_height))\n",
    "\n",
    "while True:\n",
    "    frames = []\n",
    "\n",
    "    # 读取所有视频的当前帧.\n",
    "    for cap in caps:\n",
    "        ret, frame = cap.read()\n",
    "        if not ret:\n",
    "            frames.append(None)  # 添加空帧以保持一致性.\n",
    "        else:\n",
    "            # Resize frame if needed\n",
    "            frame = cv2.resize(frame, (frame_width, frame_height))\n",
    "            frames.append(frame)\n",
    "\n",
    "    # 检查是否所有视频都已经结束.\n",
    "    if all(frame is None for frame in frames):\n",
    "        break\n",
    "\n",
    "    # 创建一个大画面，只合并有效帧.\n",
    "    valid_frames = [frame for frame in frames if frame is not None]\n",
    "\n",
    "    # 检查是否有足够的有效帧进行合并.\n",
    "    if len(valid_frames) == 6:\n",
    "        top_row = np.hstack((valid_frames[0], valid_frames[1], valid_frames[2]))\n",
    "        bottom_row = np.hstack((valid_frames[3], valid_frames[4], valid_frames[5]))\n",
    "        combined_frame = np.vstack((top_row, bottom_row))\n",
    "\n",
    "        # 写入合成帧到输出文件.\n",
    "        out.write(combined_frame)\n",
    "    else:\n",
    "        print(\"当前帧无效，无法进行合并。\")\n",
    "\n",
    "# 释放资源.\n",
    "for cap in caps:\n",
    "    cap.release()\n",
    "out.release()\n",
    "\n",
    "print('视频合并完成！输出文件:', output_file)\n"
   ]
  },
  {
   "cell_type": "code",
   "execution_count": 2,
   "metadata": {},
   "outputs": [
    {
     "data": {
      "text/html": [
       "<video src=\"./输出效果/combined_video.mp4\" controls  width=\"450\"  height=\"330\">\n",
       "      Your browser does not support the <code>video</code> element.\n",
       "    </video>"
      ],
      "text/plain": [
       "<IPython.core.display.Video object>"
      ]
     },
     "execution_count": 2,
     "metadata": {},
     "output_type": "execute_result"
    }
   ],
   "source": [
    "# 实现效果.\n",
    "from IPython.display import Video\n",
    "\n",
    "Video(filename='./输出效果/combined_video.mp4', width=450, height=330)"
   ]
  }
 ],
 "metadata": {
  "kernelspec": {
   "display_name": "Python 3",
   "language": "python",
   "name": "python3"
  },
  "language_info": {
   "codemirror_mode": {
    "name": "ipython",
    "version": 3
   },
   "file_extension": ".py",
   "mimetype": "text/x-python",
   "name": "python",
   "nbconvert_exporter": "python",
   "pygments_lexer": "ipython3",
   "version": "3.7.4"
  }
 },
 "nbformat": 4,
 "nbformat_minor": 2
}

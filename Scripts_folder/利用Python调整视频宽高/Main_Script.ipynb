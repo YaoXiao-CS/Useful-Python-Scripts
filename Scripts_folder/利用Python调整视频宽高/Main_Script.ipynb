{
 "cells": [
  {
   "cell_type": "code",
   "execution_count": 1,
   "metadata": {},
   "outputs": [
    {
     "name": "stdout",
     "output_type": "stream",
     "text": [
      "output_video.mp4 已调整并保存为 C:/Users/Administrator/Desktop/output\\resized_output_video.mp4\n",
      "output_video2.mp4 已调整并保存为 C:/Users/Administrator/Desktop/output\\resized_output_video2.mp4\n",
      "output_video3.mp4 已调整并保存为 C:/Users/Administrator/Desktop/output\\resized_output_video3.mp4\n",
      "test_video1.mp4 已调整并保存为 C:/Users/Administrator/Desktop/output\\resized_test_video1.mp4\n",
      "test_video2.mp4 已调整并保存为 C:/Users/Administrator/Desktop/output\\resized_test_video2.mp4\n",
      "test_video3.mp4 已调整并保存为 C:/Users/Administrator/Desktop/output\\resized_test_video3.mp4\n",
      "所有视频处理完成！\n"
     ]
    }
   ],
   "source": [
    "import cv2\n",
    "import os\n",
    "\n",
    "# 设置原始视频文件夹和输出文件夹\n",
    "input_folder = \"C:/Users/Administrator/Desktop/input\"     # 替换为实际的输入文件夹路径\n",
    "output_folder = \"C:/Users/Administrator/Desktop/output\"     # 替换为实际的输出文件夹路径\n",
    "\n",
    "# 确保输出文件夹存在\n",
    "os.makedirs(output_folder, exist_ok=True)\n",
    "\n",
    "# 获取输入文件夹中的所有MP4文件\n",
    "for filename in os.listdir(input_folder):\n",
    "    if filename.endswith('.mp4'):\n",
    "        # 构造输入和输出文件的完整路径\n",
    "        input_file_path = os.path.join(input_folder, filename)\n",
    "        output_file_path = os.path.join(output_folder, 'resized_' + filename)\n",
    "\n",
    "        # 打开视频文件\n",
    "        cap = cv2.VideoCapture(input_file_path)\n",
    "\n",
    "        # 获取视频的原始帧率\n",
    "        fps = cap.get(cv2.CAP_PROP_FPS)\n",
    "\n",
    "        # 获取视频的原始编码格式\n",
    "        fourcc = cv2.VideoWriter_fourcc(*'mp4v')\n",
    "\n",
    "        # 创建 VideoWriter 对象以保存调整后的视频\n",
    "        out = cv2.VideoWriter(output_file_path, fourcc, fps, (300, 250))\n",
    "\n",
    "        while True:\n",
    "            ret, frame = cap.read()\n",
    "            if not ret:\n",
    "                break  # 到达视频末尾\n",
    "\n",
    "            # 调整帧的尺寸为300x250\n",
    "            resized_frame = cv2.resize(frame, (300, 250))\n",
    "\n",
    "            # 写入调整后的帧到输出文件\n",
    "            out.write(resized_frame)\n",
    "\n",
    "        # 释放资源\n",
    "        cap.release()\n",
    "        out.release()\n",
    "\n",
    "        print(f'{filename} 已调整并保存为 {output_file_path}')\n",
    "\n",
    "print('所有视频处理完成！')\n"
   ]
  }
 ],
 "metadata": {
  "kernelspec": {
   "display_name": "pyml-book",
   "language": "python",
   "name": "python3"
  },
  "language_info": {
   "codemirror_mode": {
    "name": "ipython",
    "version": 3
   },
   "file_extension": ".py",
   "mimetype": "text/x-python",
   "name": "python",
   "nbconvert_exporter": "python",
   "pygments_lexer": "ipython3",
   "version": "3.9.19"
  }
 },
 "nbformat": 4,
 "nbformat_minor": 2
}

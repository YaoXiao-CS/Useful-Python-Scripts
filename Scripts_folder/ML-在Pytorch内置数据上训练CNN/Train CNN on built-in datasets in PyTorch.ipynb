{
 "cells": [
  {
   "cell_type": "code",
   "execution_count": 29,
   "metadata": {},
   "outputs": [
    {
     "data": {
      "text/plain": [
       "'\\nsudo docker run --gpus all -it --rm -p 8888:8888 -v /mnt/d/python_code/7spyder_projects/2024celeba/mnist/:/workspace  --ipc=host --ulimit memlock=-1 --ulimit stack=67108864 nvcr.io/nvidia/pytorch:23.08-py3\\n'"
      ]
     },
     "execution_count": 29,
     "metadata": {},
     "output_type": "execute_result"
    }
   ],
   "source": [
    "# 远程启动命令.\n",
    "\"\"\"\n",
    "sudo docker run --gpus all -it --rm -p 8888:8888 -v /mnt/d/python_code/7spyder_projects/2024celeba/mnist/:/workspace  --ipc=host --ulimit memlock=-1 --ulimit stack=67108864 nvcr.io/nvidia/pytorch:23.08-py3\n",
    "\"\"\""
   ]
  },
  {
   "cell_type": "code",
   "execution_count": 30,
   "metadata": {},
   "outputs": [],
   "source": [
    "# 导入相关的包.\n",
    "import time\n",
    "import numpy as np\n",
    "import matplotlib.pyplot as plt\n",
    "import torch\n",
    "import torch.backends\n",
    "import torch.nn as nn\n",
    "from torchvision import datasets\n",
    "from torchvision import transforms\n",
    "from torch.utils.data import Subset\n",
    "from torch.utils.data import DataLoader\n",
    "\n",
    "if torch.cuda.is_available():\n",
    "    torch.backends.cudnn.deterministic = True"
   ]
  },
  {
   "cell_type": "code",
   "execution_count": 31,
   "metadata": {},
   "outputs": [
    {
     "name": "stdout",
     "output_type": "stream",
     "text": [
      "cuda:0\n"
     ]
    }
   ],
   "source": [
    "# 硬件配置.\n",
    "device = torch.device('cuda:0' if torch.cuda.is_available() else 'cpu')\n",
    "print(device)"
   ]
  },
  {
   "cell_type": "code",
   "execution_count": 32,
   "metadata": {},
   "outputs": [],
   "source": [
    "# 获取原始数据.\n",
    "# data_path = 'D:/python_code/7spyder_projects/2024celeba/mnist'\n",
    "data_path = './'\n",
    "transform = transforms.Compose([transforms.ToTensor()])\n",
    "\n",
    "mnist_dataset = datasets.MNIST(root=data_path, \n",
    "                               train=True, \n",
    "                               transform=transform, \n",
    "                               download=False)  # download online， setting download=True. \n"
   ]
  },
  {
   "cell_type": "code",
   "execution_count": 33,
   "metadata": {},
   "outputs": [],
   "source": [
    "# 划分训练、验证与测试数据.\n",
    "mnist_valid_dataset = Subset(mnist_dataset, \n",
    "                             torch.arange(10000))\n",
    "mnist_train_dataset = Subset(mnist_dataset, \n",
    "                             torch.arange(10000, len(mnist_dataset)))\n",
    "mnist_test_dataset = datasets.MNIST(root=data_path, \n",
    "                                    train=False, \n",
    "                                    transform=transform, \n",
    "                                    download=False)"
   ]
  },
  {
   "cell_type": "code",
   "execution_count": 34,
   "metadata": {},
   "outputs": [],
   "source": [
    "# 定义batchsize.\n",
    "batch_size = 256"
   ]
  },
  {
   "cell_type": "code",
   "execution_count": 35,
   "metadata": {},
   "outputs": [],
   "source": [
    "# 定义DataLoader.\n",
    "train_dl = DataLoader(mnist_train_dataset, \n",
    "                      batch_size=batch_size, \n",
    "                      shuffle=True)\n",
    "\n",
    "valid_dl = DataLoader(mnist_valid_dataset, \n",
    "                      batch_size=batch_size, \n",
    "                      shuffle=False)"
   ]
  },
  {
   "cell_type": "code",
   "execution_count": 36,
   "metadata": {},
   "outputs": [
    {
     "name": "stdout",
     "output_type": "stream",
     "text": [
      "Image batch dimensions: torch.Size([256, 1, 28, 28])\n",
      "Image label dimensions: torch.Size([256])\n"
     ]
    }
   ],
   "source": [
    "# 检查一下数据集.\n",
    "for images, labels in train_dl:\n",
    "    print('Image batch dimensions:', images.shape)\n",
    "    print('Image label dimensions:', labels.shape)\n",
    "    break"
   ]
  },
  {
   "cell_type": "markdown",
   "metadata": {},
   "source": [
    "**notes：**\n",
    "\n",
    "假设卷积层输入神经元个数为$W$, 卷积核大小为$K$, 步长为$S$, 在输入两端各填补$P$个0(zero padding), 那么该卷积层的神经元数量为：\n",
    "\n",
    "$$\n",
    "\\left\\lfloor\\frac{W + 2*P -K}{S}\\right\\rfloor + 1\n",
    "$$\n",
    "\n",
    "一般常用的卷积有如下三种：\n",
    "* 窄卷积(Narrow Convolution): 步长为$S=1$, 两端不补零$P=0$, 对应Valid Padding, 卷积输出后长度为$W - k + 1$;\n",
    "* 宽卷积(Wide Convolution): 步长为$S=1$, 两端补零$P=K-1$, 对应Full Padding, 卷积后出处长度为$W + K -1$;\n",
    "* 等宽卷积(Equal-Width Convolution): 步长为$S=1$, 两端补零$P=(K -1)/2$, 对应Same Padding, 卷积后出长度为$W$."
   ]
  },
  {
   "cell_type": "code",
   "execution_count": 37,
   "metadata": {},
   "outputs": [],
   "source": [
    "# # 模型构建.\n",
    "# class ConvNet(torch.nn.Module):\n",
    "#     def __init__(self, num_classes):\n",
    "#         super(ConvNet, self).__init__()\n",
    "\n",
    "#         # 计算same padding.\n",
    "#         # (w + 2*p - k)/s + 1 = o\n",
    "#         # p = (s(o-1) - w + k)/2\n",
    "\n",
    "#         # 28x28x1 => 28x28x8\n",
    "#         self.conv_1 = nn.Conv2d(in_channels=1, \n",
    "#                                 out_channels=8, \n",
    "#                                 kernel_size=(3, 3),\n",
    "#                                 stride=(1, 1), \n",
    "#                                 padding=1) # (1(28-1) - 28 + 3) / 2 = 1\n",
    "#         # 28x28x8 => 14x14x8\n",
    "#         self.pool_1 = nn.MaxPool2d(kernel_size=(2, 2), \n",
    "#                                    stride=(2, 2), \n",
    "#                                    padding=0) # (2(14-1) - 28 + 2) = 0  \n",
    "\n",
    "#         # 14x14x8 => 14x14x16\n",
    "#         self.conv_2 = nn.Conv2d(in_channels=8, \n",
    "#                                 out_channels=16, \n",
    "#                                 kernel_size=(3, 3), \n",
    "#                                 stride=(1, 1), \n",
    "#                                 padding=1) # (1(14-1) - 14 + 3) / 2 = 1\n",
    "#         # 14x14x16 => 7x7x16\n",
    "#         self.pool_2 = nn.MaxPool2d(kernel_size=(2, 2), \n",
    "#                                    stride=(2, 2), \n",
    "#                                    padding=0) # (2(7-1) - 14 + 2) = 0\n",
    "#         self.linear_1 = nn.Linear(7*7*16, num_classes)\n",
    "\n",
    "#         # 可选, 示例使用高斯分布.\n",
    "#         \"\"\"for m in self.modules():\n",
    "#             if isinstance(m, nn.Conv2d) or isinstance(m, nn.Linear):\n",
    "#                 m.weight.data.normal_(0.0, 0.01)\n",
    "#                 m.bias.data.zero_()\n",
    "#                 if m.bias is not None:\n",
    "#                     m.bias.detach().zero_()\"\"\"\n",
    "        \n",
    "#     def forward(self, x):\n",
    "#         out = self.conv_1(x)\n",
    "#         out = nn.functional.relu(out)\n",
    "#         out = self.pool_1(out)\n",
    "\n",
    "#         out = self.conv_2(out)\n",
    "#         out = nn.functional.relu(out)\n",
    "#         out = self.pool_2(out)\n",
    "\n",
    "#         logits = self.linear_1(out.view(-1, 7*7*16))\n",
    "#         probas = nn.functional.softmax(logits, dim=1)\n",
    "#         return logits\n",
    "\n",
    "\n",
    "\n",
    "import torch\n",
    "import torch.nn as nn\n",
    "\n",
    "class ConvNet(torch.nn.Module):\n",
    "    def __init__(self, num_classes, dropout_prob=0.5):\n",
    "        super(ConvNet, self).__init__()\n",
    "\n",
    "        self.conv_1 = nn.Conv2d(in_channels=1, \n",
    "                                out_channels=8, \n",
    "                                kernel_size=(3, 3),\n",
    "                                stride=(1, 1), \n",
    "                                padding=1)\n",
    "        self.pool_1 = nn.MaxPool2d(kernel_size=(2, 2), \n",
    "                                   stride=(2, 2), \n",
    "                                   padding=0)\n",
    "        \n",
    "        self.conv_2 = nn.Conv2d(in_channels=8, \n",
    "                                out_channels=16, \n",
    "                                kernel_size=(3, 3), \n",
    "                                stride=(1, 1), \n",
    "                                padding=1)\n",
    "        self.pool_2 = nn.MaxPool2d(kernel_size=(2, 2), \n",
    "                                   stride=(2, 2), \n",
    "                                   padding=0)\n",
    "\n",
    "        self.linear_1 = nn.Linear(7*7*16, num_classes)\n",
    "\n",
    "        # 添加 Dropout 层\n",
    "        self.dropout_1 = nn.Dropout(p=dropout_prob)\n",
    "        \n",
    "    def forward(self, x):\n",
    "        out = self.conv_1(x)\n",
    "        out = nn.functional.relu(out)\n",
    "        out = self.pool_1(out)\n",
    "\n",
    "        out = self.conv_2(out)\n",
    "        out = nn.functional.relu(out)\n",
    "        out = self.pool_2(out)\n",
    "        out = self.dropout_1(out)  # 在池化后添加的 Dropout\n",
    "\n",
    "        logits = self.linear_1(out.view(-1, 7*7*16))\n",
    "        probas = nn.functional.softmax(logits, dim=1)\n",
    "        return logits"
   ]
  },
  {
   "cell_type": "code",
   "execution_count": 38,
   "metadata": {},
   "outputs": [],
   "source": [
    "# \"软件配置\".\n",
    "torch.manual_seed(1)\n",
    "\n",
    "learn_rate = 0.001\n",
    "num_epochs = 30\n",
    "\n",
    "num_classes = 10\n",
    "\n",
    "dropout_probability = 0.15  # 设置 Dropout 概率，可以根据实际需要进行调整\n",
    "model = ConvNet(num_classes, dropout_prob=dropout_probability)\n",
    "model = model.to(device)\n"
   ]
  },
  {
   "cell_type": "code",
   "execution_count": 39,
   "metadata": {},
   "outputs": [],
   "source": [
    "# 定义损失函数与优化器.\n",
    "loss_fn = nn.CrossEntropyLoss()\n",
    "optimizer = torch.optim.Adam(model.parameters(), lr=learn_rate)"
   ]
  },
  {
   "cell_type": "code",
   "execution_count": 40,
   "metadata": {},
   "outputs": [],
   "source": [
    "# 定义训练循环.\n",
    "def train(model, num_epochs, train_dl, valid_dl):\n",
    "    loss_hist_train = [0] * num_epochs\n",
    "    accuracy_hist_train = [0] * num_epochs\n",
    "    loss_hist_valid = [0] * num_epochs\n",
    "    accuracy_hist_valid = [0] * num_epochs\n",
    "    for epoch in range(num_epochs):\n",
    "        model.train()\n",
    "        for x_batch, y_batch in train_dl:\n",
    "            x_batch = x_batch.to(device)\n",
    "            y_batch = y_batch.to(device)\n",
    "\n",
    "            pred = model(x_batch)\n",
    "            loss = loss_fn(pred, y_batch)\n",
    "\n",
    "            loss.backward()\n",
    "            optimizer.step()\n",
    "            optimizer.zero_grad()\n",
    "\n",
    "            loss_hist_train[epoch] += loss.item()*y_batch.size(0)\n",
    "            is_correct = (torch.argmax(pred, dim=1) == y_batch).float()\n",
    "            accuracy_hist_train[epoch] += is_correct.sum().cpu()\n",
    "\n",
    "        loss_hist_train[epoch] /= len(train_dl.dataset)\n",
    "        accuracy_hist_train[epoch] /= len(train_dl.dataset)\n",
    "\n",
    "        model.eval()\n",
    "        with torch.no_grad():\n",
    "            for x_batch, y_batch in valid_dl:\n",
    "                x_batch = x_batch.to(device)\n",
    "                y_batch = y_batch.to(device)\n",
    "                pred = model(x_batch)\n",
    "                loss = loss_fn(pred, y_batch)\n",
    "                loss_hist_valid[epoch] += loss.item()*y_batch.size(0) \n",
    "                is_correct = (torch.argmax(pred, dim=1) == y_batch).float() \n",
    "                accuracy_hist_valid[epoch] += is_correct.sum().cpu()\n",
    "\n",
    "        loss_hist_valid[epoch] /= len(valid_dl.dataset)\n",
    "        accuracy_hist_valid[epoch] /= len(valid_dl.dataset)\n",
    "\n",
    "        print(f'Epoch {epoch+1} accuracy: {accuracy_hist_train[epoch]:.4f} val acc: {accuracy_hist_valid[epoch]:.4f}')\n",
    "    return loss_hist_train, loss_hist_valid, accuracy_hist_train, accuracy_hist_valid"
   ]
  },
  {
   "cell_type": "code",
   "execution_count": 41,
   "metadata": {},
   "outputs": [
    {
     "name": "stdout",
     "output_type": "stream",
     "text": [
      "Epoch 1 accuracy: 0.7820 val acc: 0.9146\n",
      "Epoch 2 accuracy: 0.9193 val acc: 0.9431\n",
      "Epoch 3 accuracy: 0.9433 val acc: 0.9579\n",
      "Epoch 4 accuracy: 0.9556 val acc: 0.9669\n",
      "Epoch 5 accuracy: 0.9625 val acc: 0.9700\n",
      "Epoch 6 accuracy: 0.9678 val acc: 0.9729\n",
      "Epoch 7 accuracy: 0.9696 val acc: 0.9731\n",
      "Epoch 8 accuracy: 0.9724 val acc: 0.9773\n",
      "Epoch 9 accuracy: 0.9750 val acc: 0.9784\n",
      "Epoch 10 accuracy: 0.9765 val acc: 0.9795\n",
      "Epoch 11 accuracy: 0.9773 val acc: 0.9815\n",
      "Epoch 12 accuracy: 0.9777 val acc: 0.9796\n",
      "Epoch 13 accuracy: 0.9790 val acc: 0.9816\n",
      "Epoch 14 accuracy: 0.9803 val acc: 0.9813\n",
      "Epoch 15 accuracy: 0.9808 val acc: 0.9839\n",
      "Epoch 16 accuracy: 0.9814 val acc: 0.9824\n",
      "Epoch 17 accuracy: 0.9815 val acc: 0.9836\n",
      "Epoch 18 accuracy: 0.9830 val acc: 0.9849\n",
      "Epoch 19 accuracy: 0.9832 val acc: 0.9847\n",
      "Epoch 20 accuracy: 0.9835 val acc: 0.9847\n",
      "Epoch 21 accuracy: 0.9834 val acc: 0.9838\n",
      "Epoch 22 accuracy: 0.9840 val acc: 0.9859\n",
      "Epoch 23 accuracy: 0.9846 val acc: 0.9847\n",
      "Epoch 24 accuracy: 0.9853 val acc: 0.9862\n",
      "Epoch 25 accuracy: 0.9853 val acc: 0.9865\n",
      "Epoch 26 accuracy: 0.9856 val acc: 0.9857\n",
      "Epoch 27 accuracy: 0.9854 val acc: 0.9862\n",
      "Epoch 28 accuracy: 0.9863 val acc: 0.9857\n",
      "Epoch 29 accuracy: 0.9865 val acc: 0.9858\n",
      "Epoch 30 accuracy: 0.9871 val acc: 0.9855\n"
     ]
    }
   ],
   "source": [
    "# 训练评估.\n",
    "torch.manual_seed(1)\n",
    "\n",
    "hist = train(model, num_epochs=num_epochs, train_dl=train_dl, valid_dl=valid_dl)"
   ]
  },
  {
   "cell_type": "code",
   "execution_count": 42,
   "metadata": {},
   "outputs": [
    {
     "data": {
      "image/png": "[encoded data removed]",
      "text/plain": [
       "<Figure size 1200x400 with 2 Axes>"
      ]
     },
     "metadata": {},
     "output_type": "display_data"
    }
   ],
   "source": [
    "# 绘制学习曲线.\n",
    "import matplotlib.pyplot as plt\n",
    "\n",
    "x_arr = np.arange(len(hist[0])) + 1\n",
    "fig = plt.figure(figsize=(12, 4))\n",
    "ax = fig.add_subplot(1,2,1)\n",
    "ax.plot(x_arr, hist[0], '-o', label='Train loss')\n",
    "ax.plot(x_arr, hist[1], '--<', label='Validation loss')\n",
    "ax.set_xlabel('Epoch', size=15)\n",
    "ax.set_ylabel('Loss', size=15)\n",
    "ax.legend(fontsize=15)\n",
    "\n",
    "ax = fig.add_subplot(1, 2, 2)\n",
    "ax.plot(x_arr, hist[2], '-o', label='Train acc.')\n",
    "ax.plot(x_arr, hist[3], '--<', label='Validation acc.')\n",
    "ax.legend(fontsize=15)\n",
    "ax.set_xlabel('Epoch', size=15)\n",
    "ax.set_ylabel('Accuracy', size=15)\n",
    "\n",
    "plt.show()"
   ]
  },
  {
   "cell_type": "code",
   "execution_count": null,
   "metadata": {},
   "outputs": [
    {
     "name": "stdout",
     "output_type": "stream",
     "text": [
      "Model is on: cuda:0\n"
     ]
    }
   ],
   "source": [
    "# 查看model在CPU还是GPU上.\n",
    "device = next(model.parameters()).device\n",
    "print(f'Model is on: {device}')"
   ]
  },
  {
   "cell_type": "code",
   "execution_count": null,
   "metadata": {},
   "outputs": [
    {
     "name": "stdout",
     "output_type": "stream",
     "text": [
      "Test accuracy: 0.9883\n"
     ]
    }
   ],
   "source": [
    "# 定义测试 DataLoader, 如果在GPU上测试推理.\n",
    "test_dl = DataLoader(mnist_test_dataset, \n",
    "                     batch_size=batch_size, \n",
    "                     shuffle=False)\n",
    "\n",
    "correct = 0\n",
    "total = 0\n",
    "\n",
    "model.eval()\n",
    "with torch.no_grad(): \n",
    "    for data in test_dl:\n",
    "        images, labels = data\n",
    "        \n",
    "        # 确保输入数据也转移到 GPU.\n",
    "        if torch.cuda.is_available():\n",
    "            images = images.to('cuda')\n",
    "            model.to('cuda')\n",
    "\n",
    "        # 进行预测.\n",
    "        outputs = model(images)\n",
    "        _, predicted = torch.max(outputs, 1)  # 取出最大值的索引作为预测结果.\n",
    "        \n",
    "        total += labels.size(0)  # 统计总样本数.\n",
    "        correct += (predicted.cpu() == labels).sum().item()  # 统计正确预测的数量.\n",
    "\n",
    "# 计算并打印测试准确率.\n",
    "test_accuracy = correct / total\n",
    "print(f'Test accuracy: {test_accuracy:.4f}')"
   ]
  },
  {
   "cell_type": "code",
   "execution_count": null,
   "metadata": {},
   "outputs": [],
   "source": []
  },
  {
   "cell_type": "code",
   "execution_count": null,
   "metadata": {},
   "outputs": [
    {
     "name": "stdout",
     "output_type": "stream",
     "text": [
      "Test accuracy: 0.9883\n"
     ]
    }
   ],
   "source": [
    "# 或者--测试验证.\n",
    "\"\"\"\n",
    "确保所有在GPU上的计算完成，并同步主机和设备。它会阻塞主线程，直到所有未完成的CUDA操作都完成。\n",
    "这样可以防止数据状态不一致的问题，确保后续操作在做预测时是稳定的。\n",
    "\"\"\"\n",
    "torch.cuda.synchronize()\n",
    "\n",
    "model_cpu = model.cpu()\n",
    "pred = model(mnist_test_dataset.data.unsqueeze(1) / 255)\n",
    "is_correct = (torch.argmax(pred, dim=1) == mnist_test_dataset.targets).float()\n",
    "print(f'Test accuracy: {is_correct.mean():.4f}') "
   ]
  },
  {
   "cell_type": "code",
   "execution_count": 47,
   "metadata": {},
   "outputs": [
    {
     "data": {
      "image/png": "[encoded data removed]",
      "text/plain": [
       "<Figure size 1200x400 with 12 Axes>"
      ]
     },
     "metadata": {},
     "output_type": "display_data"
    }
   ],
   "source": [
    "fig = plt.figure(figsize=(12, 4))\n",
    "for i in range(12):\n",
    "    ax = fig.add_subplot(2, 6, i+1)\n",
    "    ax.set_xticks([]); ax.set_yticks([])\n",
    "    img = mnist_test_dataset[i][0][0, :, :]\n",
    "    pred = model(img.unsqueeze(0).unsqueeze(1)) # alternatively: mnist_test_dataset.data[i].float()\n",
    "    y_pred = torch.argmax(pred)\n",
    "    ax.imshow(img, cmap='gray_r')\n",
    "    ax.text(0.9, 0.1, y_pred.item(), \n",
    "            size=15, color='blue',\n",
    "            horizontalalignment='center',\n",
    "            verticalalignment='center', \n",
    "            transform=ax.transAxes)\n",
    "    \n",
    "plt.show()"
   ]
  },
  {
   "cell_type": "code",
   "execution_count": null,
   "metadata": {},
   "outputs": [],
   "source": [
    "torch.save(model, 'model.pth')\n",
    "# 直接加载模型\n",
    "loaded_model = torch.load('model.pth')\n",
    "# 如果模型是在训练模式中，需要设置为 eval 模式\n",
    "loaded_model.eval()\n",
    "\n",
    "\n",
    "# 假设 model 是你的模型\n",
    "torch.save(model.state_dict(), 'model_state_dict.pth')\n",
    "# 重新创建模型的实例\n",
    "model = ConvNet(num_classes, dropout_prob=dropout_probability)  # ConvNet模型的定义类\n",
    "model.load_state_dict(torch.load('model_state_dict.pth'))\n",
    "# 需要设置为 eval 模式如果进行推断\n",
    "model.eval()"
   ]
  }
 ],
 "metadata": {
  "kernelspec": {
   "display_name": "Python 3 (ipykernel)",
   "language": "python",
   "name": "python3"
  },
  "language_info": {
   "codemirror_mode": {
    "name": "ipython",
    "version": 3
   },
   "file_extension": ".py",
   "mimetype": "text/x-python",
   "name": "python",
   "nbconvert_exporter": "python",
   "pygments_lexer": "ipython3",
   "version": "3.10.12"
  }
 },
 "nbformat": 4,
 "nbformat_minor": 2
}
